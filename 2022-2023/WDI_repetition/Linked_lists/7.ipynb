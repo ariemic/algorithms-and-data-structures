{
 "cells": [
  {
   "cell_type": "markdown",
   "id": "4944fde6",
   "metadata": {},
   "source": [
    "# Zestaw 7: Struktury odsyłaczowe"
   ]
  },
  {
   "cell_type": "code",
   "execution_count": 1,
   "id": "287c3c90",
   "metadata": {},
   "outputs": [],
   "source": [
    "# x"
   ]
  },
  {
   "cell_type": "markdown",
   "id": "14d133e3",
   "metadata": {},
   "source": [
    "### Zadania Obowiązkowe"
   ]
  },
  {
   "cell_type": "markdown",
   "id": "dbbed4f0",
   "metadata": {},
   "source": [
    "### Zadanie 1. Zaimplementuj zbiór mnogościowy liczb naturalnych korzystając ze struktury listy odsyłaczowej. <br />- czy element należy do zbioru <br />- wstawienie elementu do zbioru <br />- usunięcie elementu ze zbioru"
   ]
  },
  {
   "cell_type": "code",
   "execution_count": 2,
   "id": "1f49104a",
   "metadata": {},
   "outputs": [],
   "source": [
    "# x"
   ]
  },
  {
   "cell_type": "markdown",
   "id": "35593f60",
   "metadata": {},
   "source": [
    "### Zadanie 2. Zastosowanie listy odsyłaczowej do implementacji tablicy rzadkiej. Proszę napisać trzy funkcje: <br />- inicjalizującą tablicę, <br />- zwracającą wartość elementu o indeksie n, <br />- podstawiającą wartość value pod indeks n.\n"
   ]
  },
  {
   "cell_type": "code",
   "execution_count": 3,
   "id": "1a863684",
   "metadata": {},
   "outputs": [],
   "source": [
    "# x"
   ]
  },
  {
   "cell_type": "markdown",
   "id": "1059ed75",
   "metadata": {},
   "source": [
    "### Zadanie 3.  Proszę napisać funkcję scalającą dwie posortowane listy w jedną posortowaną listę. Do funkcji należy przekazać wskazania na pierwsze elementy obu list, funkcja powinna zwrócić wskazanie do scalonej listy. <br />- funkcja iteracyjna,<br />- funkcja rekurencyjna.\n"
   ]
  },
  {
   "cell_type": "code",
   "execution_count": 4,
   "id": "9bf23963",
   "metadata": {},
   "outputs": [],
   "source": [
    "# x"
   ]
  },
  {
   "cell_type": "markdown",
   "id": "40bf3d59",
   "metadata": {},
   "source": [
    "### Zadanie 4. Proszę napisać funkcję, która dla podanej listy odsyłaczowej odwraca kolejność jej elementów.\n"
   ]
  },
  {
   "cell_type": "code",
   "execution_count": 5,
   "id": "de28407d",
   "metadata": {},
   "outputs": [],
   "source": [
    "# x"
   ]
  },
  {
   "cell_type": "markdown",
   "id": "750ec74d",
   "metadata": {},
   "source": [
    "### Zadanie 5. Proszę napisać funkcję, która rozdziela elementy listy odsyłaczowej do 10 list, według ostatniej cyfry pola val. W drugim kroku powstałe listy należy połączyć w jedną listę odsyłaczową, która jest posortowana niemalejąco według ostatniej cyfry pola val.\n"
   ]
  },
  {
   "cell_type": "code",
   "execution_count": 6,
   "id": "b77aee86",
   "metadata": {},
   "outputs": [],
   "source": [
    "# x"
   ]
  },
  {
   "cell_type": "markdown",
   "id": "8a3d784c",
   "metadata": {},
   "source": [
    "### Zadanie 6. Proszę napisać funkcję wstawiającą na koniec listy nowy element. Do funkcji należy przekazać wskazanie na pierwszy element listy oraz wstawianą wartość."
   ]
  },
  {
   "cell_type": "code",
   "execution_count": 7,
   "id": "fa524718",
   "metadata": {},
   "outputs": [],
   "source": [
    "# x"
   ]
  },
  {
   "cell_type": "markdown",
   "id": "321c7448",
   "metadata": {},
   "source": [
    "### Zadanie 7. Proszę napisać funkcję usuwającą ostatni element listy. Do funkcji należy przekazać wskazanie na pierwszy element listy."
   ]
  },
  {
   "cell_type": "code",
   "execution_count": 8,
   "id": "3a4c698c",
   "metadata": {},
   "outputs": [],
   "source": [
    "# x"
   ]
  },
  {
   "cell_type": "markdown",
   "id": "50d93573",
   "metadata": {},
   "source": [
    "### Zadanie 8. Dana jest niepusta lista, proszę napisać funkcję usuwającą co drugi element listy. Do funkcji należy przekazać wskazanie na pierwszy element listy.\n"
   ]
  },
  {
   "cell_type": "code",
   "execution_count": 9,
   "id": "4d0a9941",
   "metadata": {},
   "outputs": [],
   "source": [
    "# x"
   ]
  },
  {
   "cell_type": "markdown",
   "id": "15ef01cc",
   "metadata": {},
   "source": [
    "### Zadanie 9.  Dana jest niepusta lista reprezentująca liczbę naturalną. Kolejne elementy listy przechowują kolejne cyfry. Proszę napisać funkcję zwiększającą taką liczbę o 1."
   ]
  },
  {
   "cell_type": "code",
   "execution_count": 10,
   "id": "4a0f273f",
   "metadata": {},
   "outputs": [],
   "source": [
    "# x"
   ]
  },
  {
   "cell_type": "markdown",
   "id": "9ebb4f0b",
   "metadata": {},
   "source": [
    "### Zadanie 10.  Liczby naturalne reprezentowane jak poprzednim zadaniu. Proszę napisać funkcję dodającą dwie takie liczby. W wyniku dodawania dwóch liczb powinna powstać nowa lista."
   ]
  },
  {
   "cell_type": "code",
   "execution_count": 11,
   "id": "754bf0f8",
   "metadata": {},
   "outputs": [],
   "source": [
    "# x"
   ]
  },
  {
   "cell_type": "markdown",
   "id": "33b581a6",
   "metadata": {},
   "source": [
    "### Zadanie 11. Lista zawiera niepowtarzające się elementy. Proszę napisać funkcję do której przekazujemy wskaźnik na początek oraz wartość klucza. Jeżeli element o takim kluczu występuje w liście należy go usunąć z listy. Jeżeli elementu o zadanym kluczu brak w liście należy element o takim kluczu wstawić do listy.\n"
   ]
  },
  {
   "cell_type": "code",
   "execution_count": 12,
   "id": "6f03290d",
   "metadata": {},
   "outputs": [],
   "source": [
    "# x"
   ]
  },
  {
   "cell_type": "markdown",
   "id": "79b2fd84",
   "metadata": {},
   "source": [
    "### Zadanie 12. Zbiór mnogościowy zawierający napisy jest reprezentowany w postaci jednokierunkowej listy. Napisy w łańcuchu są uporządkowane leksykograficznie. Proszę napisać stosowne definicje typów oraz funkcję dodającą napis do zbioru. Do funkcji należy przekazać wskaźnik do listy oraz wstawiany napis, funkcja powinna zwrócić wartość logiczną wskazującą, czy w wyniku operacji moc zbioru uległa zmianie."
   ]
  },
  {
   "cell_type": "code",
   "execution_count": 13,
   "id": "8b98e2e5",
   "metadata": {},
   "outputs": [],
   "source": [
    "# x"
   ]
  },
  {
   "cell_type": "markdown",
   "id": "37fc19c5",
   "metadata": {},
   "source": [
    "### Zadanie 13. Proszę napisać funkcję, otrzymującą jako parametr wskaźnik na pierwszy element listy o wartościach typu $int$, usuwającą wszystkie elementy, których wartość jest mniejsza od wartości bezpośrednio poprzedzających je elementów. "
   ]
  },
  {
   "cell_type": "code",
   "execution_count": 14,
   "id": "b248d4d8",
   "metadata": {},
   "outputs": [],
   "source": [
    "# x"
   ]
  },
  {
   "cell_type": "markdown",
   "id": "7d4b88f1",
   "metadata": {},
   "source": [
    "### Zadanie 14. Proszę napisać funkcję, otrzymującą jako parametr wskaźnik na pierwszy element listy o wartościach typu $int$, usuwającą wszystkie elementy, których wartość dzieli bez reszty wartość bezpośrednio następujących po nich elementów. "
   ]
  },
  {
   "cell_type": "code",
   "execution_count": 15,
   "id": "fe752b31",
   "metadata": {},
   "outputs": [],
   "source": [
    "# x"
   ]
  },
  {
   "cell_type": "markdown",
   "id": "1aa21fbd",
   "metadata": {},
   "source": [
    "### Zadanie 15. Proszę napisać funkcję, która otrzymując jako parametr wskazujący na początek listy jednokierunkowej, usuwa z niej wszystkie elementy, w których wartość klucza w zapisie trójkowym ma większą ilość jedynek niż dwójek."
   ]
  },
  {
   "cell_type": "code",
   "execution_count": 16,
   "id": "850c4cc9",
   "metadata": {},
   "outputs": [],
   "source": [
    "# x"
   ]
  },
  {
   "cell_type": "markdown",
   "id": "e4844ac6",
   "metadata": {},
   "source": [
    "### Zadanie 16. Proszę napisać funkcję, która otrzymując jako parametr wskazujący na początek listy jednokierunkowej, przenosi na początek listy te z nich, które mają parzystą ilość piątek w zapisie ósemkowym. "
   ]
  },
  {
   "cell_type": "code",
   "execution_count": 17,
   "id": "fb534758",
   "metadata": {},
   "outputs": [],
   "source": [
    "# x"
   ]
  },
  {
   "cell_type": "markdown",
   "id": "784bac28",
   "metadata": {},
   "source": [
    "### Zadanie 17.  Proszę napisać funkcję, która otrzymując jako parametr wskazujący na początek listy dwukierunkowej, usuwa z niej wszystkie elementy, w których wartość klucza w zapisie binarnym ma nieparzystą ilość jedynek."
   ]
  },
  {
   "cell_type": "code",
   "execution_count": 18,
   "id": "db88daf9",
   "metadata": {},
   "outputs": [],
   "source": [
    "# x"
   ]
  },
  {
   "cell_type": "markdown",
   "id": "9216b0f1",
   "metadata": {},
   "source": [
    "### Zadanie 18. Proszę napisać funkcję, która pozostawia w liście wyłącznie elementy unikalne. Do funkcji należy przekazać wskazanie na pierwszy element listy."
   ]
  },
  {
   "cell_type": "code",
   "execution_count": 19,
   "id": "dbe29747",
   "metadata": {},
   "outputs": [],
   "source": [
    "# x"
   ]
  },
  {
   "cell_type": "markdown",
   "id": "728facc3",
   "metadata": {},
   "source": [
    "### Zadanie 19.  Elementy w liście są uporządkowane według wartości klucza. Proszę napisać funkcję usuwającą z listy elementy o nieunikalnym kluczu. Do funkcji przekazujemy wskazanie na pierwszy element listy, funkcja powinna zwrócić liczbę usuniętych elementów."
   ]
  },
  {
   "cell_type": "code",
   "execution_count": 20,
   "id": "ed8ad057",
   "metadata": {},
   "outputs": [],
   "source": [
    "# x"
   ]
  },
  {
   "cell_type": "markdown",
   "id": "6ccadef9",
   "metadata": {},
   "source": [
    "### Zadanie 20. Dana jest lista zawierająca ciąg obustronnie domkniętych przedziałów. Krańce przedziałów określa uporządkowana para liczb całkowitych. Proszę napisać stosowne deklaracje oraz funkcję redukującą liczbę elementów listy. Na przykład lista: $[15,19]$ $[2,5]$ $[7,11]$ $[8,12]$ $[5,6]$ $[13,17]$ powinien zostać zredukowany do listy: $[13,19]$ $[2,6]$ $[7,12]$\n"
   ]
  },
  {
   "cell_type": "code",
   "execution_count": 21,
   "id": "b02ccfa0",
   "metadata": {},
   "outputs": [],
   "source": [
    "# x"
   ]
  },
  {
   "cell_type": "markdown",
   "id": "0f8c2593",
   "metadata": {},
   "source": [
    "### Zadanie 21. Kolejne elementy listy o zwiększającej się wartości pola val nazywamy podlistą rosnącą. Proszę napisać funkcję, która usuwa z listy wejściowej najdłuższą podlistę rosnącą. Warunkiem usunięcia jest istnienie w liście dokładnie jednej najdłuższej podlisty rosnącej. "
   ]
  },
  {
   "cell_type": "code",
   "execution_count": 22,
   "id": "27bc2b38",
   "metadata": {},
   "outputs": [],
   "source": [
    "# x"
   ]
  },
  {
   "cell_type": "markdown",
   "id": "e583f04d",
   "metadata": {},
   "source": [
    "### Zadanie 22. Dana jest lista, która być może zakończona jest cyklem. Napisać funkcję, która sprawdza ten fakt."
   ]
  },
  {
   "cell_type": "code",
   "execution_count": 23,
   "id": "95ff5842",
   "metadata": {},
   "outputs": [],
   "source": [
    "# x"
   ]
  },
  {
   "cell_type": "markdown",
   "id": "72e78218",
   "metadata": {},
   "source": [
    "### Zadanie 23.  Dana jest lista, która zakończona jest cyklem. Napisać funkcję, która zwraca liczbę elementów w cyklu.\n"
   ]
  },
  {
   "cell_type": "code",
   "execution_count": 24,
   "id": "303317e9",
   "metadata": {},
   "outputs": [],
   "source": [
    "# x"
   ]
  },
  {
   "cell_type": "markdown",
   "id": "2266cd69",
   "metadata": {},
   "source": [
    "### Zadanie 24. Dana jest lista, która zakończona jest cyklem. Napisać funkcję, która zwraca liczbę elementów przed cyklem."
   ]
  },
  {
   "cell_type": "code",
   "execution_count": 25,
   "id": "c34aa010",
   "metadata": {},
   "outputs": [],
   "source": [
    "# x"
   ]
  },
  {
   "cell_type": "markdown",
   "id": "a4445505",
   "metadata": {},
   "source": [
    "### Zadanie 25. Dana jest lista, która zakończona jest cyklem. Napisać funkcję, która zwraca wskaźnik do ostatniego elementu przed cyklem."
   ]
  },
  {
   "cell_type": "code",
   "execution_count": 26,
   "id": "1e220fce",
   "metadata": {},
   "outputs": [],
   "source": [
    "# x"
   ]
  },
  {
   "cell_type": "markdown",
   "id": "9532aa92",
   "metadata": {},
   "source": [
    "### Zadanie 26. Proszę napisać funkcję, która sprawdza czy jedna lista zawiera się w drugiej. Do funkcji należy przekazać wskazania na pierwsze elementy obu list, funkcja powinna zwrócić wartość logiczną."
   ]
  },
  {
   "cell_type": "code",
   "execution_count": 27,
   "id": "b668408e",
   "metadata": {},
   "outputs": [],
   "source": [
    "# x"
   ]
  },
  {
   "cell_type": "markdown",
   "id": "9a72b382",
   "metadata": {},
   "source": [
    "### Zadanie 27. Proszę napisać funkcję scalającą dwie posortowane listy w jedną posortowaną listę. Do funkcji należy przekazać wskazania na pierwsze elementy obu list, funkcja powinna zwrócić wskazanie do scalonej listy. <br />- funkcja iteracyjna,<br />- funkcja rekurencyjna.\n"
   ]
  },
  {
   "cell_type": "code",
   "execution_count": 28,
   "id": "17132f6b",
   "metadata": {},
   "outputs": [],
   "source": [
    "# x"
   ]
  },
  {
   "cell_type": "markdown",
   "id": "5d141906",
   "metadata": {},
   "source": [
    "### Zadanie 28. Dwie listy zawierają niepowtarzające się (w obrębie listy) liczby naturalne. W pierwszej liście liczby są posortowane rosnąco, a w drugiej nie. Proszę napisać funkcję usuwającą z obu list liczby występujące w obu listach. Do funkcji należy przekazać wskazania na obie listy, funkcja powinna zwrócić łączną liczbę usuniętych elementów."
   ]
  },
  {
   "cell_type": "code",
   "execution_count": 29,
   "id": "9df4a024",
   "metadata": {},
   "outputs": [],
   "source": [
    "# x"
   ]
  },
  {
   "cell_type": "markdown",
   "id": "11d637af",
   "metadata": {},
   "source": [
    "### Zadanie 29. Dwie listy zawierają niepowtarzające się (w obrębie listy) liczby naturalne. W obu listach liczby są posortowane rosnąco. Proszę napisać funkcję usuwającą z każdej listy liczby nie występujące w drugiej. Do funkcji należy przekazać wskazania na obie listy, funkcja powinna zwrócić łączną liczbę usuniętych elementów."
   ]
  },
  {
   "cell_type": "code",
   "execution_count": 30,
   "id": "59e529dd",
   "metadata": {},
   "outputs": [],
   "source": [
    "# x"
   ]
  },
  {
   "cell_type": "markdown",
   "id": "b7daecb1",
   "metadata": {},
   "source": [
    "### Zadanie 30. Dane są dwie niepuste listy, z których każda zawiera niepowtarzające się elementy. Elementy w pierwszej liście są uporządkowane rosnąco, w drugiej elementy występują w przypadkowej kolejności. Proszę napisać funkcję, która z dwóch takich list stworzy jedną, w której uporządkowane elementy będą stanowić sumę mnogościową elementów z list wejściowych. Do funkcji należy przekazać wskazania na obie listy, funkcja powinna zwrócić wskazanie na listę wynikową. Na przykład dla list: <br />$2 \\rightarrow 3 \\rightarrow 5 \\rightarrow 7 \\rightarrow 11$ <br />$8 \\rightarrow 2 \\rightarrow 7 \\rightarrow 4$ <br />powinna pozostać lista: <br />$2 \\rightarrow 3 \\rightarrow 4 \\rightarrow 5 \\rightarrow 7 \\rightarrow 8 \\rightarrow 11$\n"
   ]
  },
  {
   "cell_type": "code",
   "execution_count": 31,
   "id": "b8521e5c",
   "metadata": {},
   "outputs": [],
   "source": [
    "# x"
   ]
  },
  {
   "cell_type": "markdown",
   "id": "54696ae7",
   "metadata": {},
   "source": [
    "### Zadanie 31. Proszę napisać funkcję, która rozdziela listę na dwie listy. Pierwsza powinna zawierać klucze parzyste dodatnie, drugi klucze nieparzyste ujemne, pozostałe elementy należy usunąć z pamięci. Do funkcji należy przekazać wskaźniki na listę z danymi oraz wskaźniki na listy wynikowe. Funkcja powinna zwrócić liczbę usuniętych elementów. "
   ]
  },
  {
   "cell_type": "code",
   "execution_count": 32,
   "id": "21c0e625",
   "metadata": {},
   "outputs": [],
   "source": [
    "# x"
   ]
  },
  {
   "cell_type": "markdown",
   "id": "d385ffc6",
   "metadata": {},
   "source": [
    "### Zadanie 32. Lista reprezentuje wielomian o współczynnikach całkowitych. Elementy w liście ułożone są według rosnących potęg. Proszę napisać funkcję obliczającą różnicę dwóch dowolnych wielomianów. Wielomiany reprezentowane są przez wyżej opisane listy. Procedura powinna zwracać wskaźnik do nowo utworzonej listy reprezentującej wielomian wynikowy. Listy wejściowe powinny pozostać niezmienione.\n"
   ]
  },
  {
   "cell_type": "code",
   "execution_count": 33,
   "id": "5787a16d",
   "metadata": {},
   "outputs": [],
   "source": [
    "# x"
   ]
  },
  {
   "cell_type": "markdown",
   "id": "9a05cd36",
   "metadata": {},
   "source": [
    "### Zadanie 33. Napis s1 poprzedza napis s2 jeżeli ostatnia litera s1 jest „mniejsza” od pierwszej litery s2. Według tej zasady rozmieszczono napisy w liście cyklicznej, na przykład:<br />┌─bartek──leszek──marek──ola──zosia─┐<br />└────────────────────────────┘<br /> Proszę napisać stosowne definicje typów oraz funkcję wstawiającą do listy napis z zachowaniem zasady poprzedzania. Do funkcji należy przekazać wskaźnik do listy oraz wstawiany napis, funkcja powinna zwrócić wartość logiczną wskazującą, czy udało się wstawić napis do listy. Po wstawieniu elementu wskaźnik do listy powinien wskazywać na nowo wstawiony element.\n"
   ]
  },
  {
   "cell_type": "code",
   "execution_count": 34,
   "id": "c3392242",
   "metadata": {},
   "outputs": [],
   "source": [
    "# x"
   ]
  },
  {
   "cell_type": "markdown",
   "id": "5bd9eb00",
   "metadata": {},
   "source": [
    "### Zadanie 34. Proszę napisać funkcję, która usuwa z listy cyklicznej elementy, których klucz występuje dokładnie k razy. Do funkcji należy przekazać wskazanie na jeden z elementów listy, oraz liczbę k, funkcja powinna zwrócić informację czy usunięto jakieś elementy z listy."
   ]
  },
  {
   "cell_type": "code",
   "execution_count": 35,
   "id": "74f7342c",
   "metadata": {},
   "outputs": [],
   "source": [
    "# x"
   ]
  },
  {
   "cell_type": "markdown",
   "id": "10b54ff0",
   "metadata": {},
   "source": [
    "### Zadanie 35. A teraz proszę rozwiązać wszystkie powyższe zadania przy założeniu że listy zawierają wartownika."
   ]
  },
  {
   "cell_type": "code",
   "execution_count": 36,
   "id": "54dc66c4",
   "metadata": {},
   "outputs": [],
   "source": [
    "# x"
   ]
  },
  {
   "cell_type": "code",
   "execution_count": null,
   "id": "a10e4052",
   "metadata": {},
   "outputs": [],
   "source": []
  }
 ],
 "metadata": {
  "kernelspec": {
   "display_name": "Python 3",
   "language": "python",
   "name": "python3"
  },
  "language_info": {
   "codemirror_mode": {
    "name": "ipython",
    "version": 3
   },
   "file_extension": ".py",
   "mimetype": "text/x-python",
   "name": "python",
   "nbconvert_exporter": "python",
   "pygments_lexer": "ipython3",
   "version": "3.11.0"
  }
 },
 "nbformat": 4,
 "nbformat_minor": 5
}
